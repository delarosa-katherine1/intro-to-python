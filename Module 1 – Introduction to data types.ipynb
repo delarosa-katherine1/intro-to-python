{
  "nbformat": 4,
  "nbformat_minor": 0,
  "metadata": {
    "colab": {
      "name": "Module 1 –Introduction to data types.ipynb",
      "provenance": [],
      "private_outputs": true,
      "collapsed_sections": [
        "m2nthTiYi3iq",
        "_jPf5AGLjmFL",
        "cWQGrspsitCD",
        "7BJCfMJ1kadT",
        "xHEDRs08krqf",
        "JdDQizrZlQVL",
        "5MdtY-PomcHs",
        "uyCaEDsPmrSa",
        "aO-ceLawnNug",
        "MFYlG-w5oQr9",
        "CPWqZrnEpAlC",
        "dN6yqxh_r-3c"
      ],
      "toc_visible": true,
      "authorship_tag": "ABX9TyO6U/HQyzgcYAzMYlLxn8vI",
      "include_colab_link": true
    },
    "kernelspec": {
      "name": "python3",
      "display_name": "Python 3"
    }
  },
  "cells": [
    {
      "cell_type": "markdown",
      "metadata": {
        "id": "view-in-github",
        "colab_type": "text"
      },
      "source": [
        "<a href=\"https://colab.research.google.com/github/ybressler/intro-to-python/blob/master/Module%201%20%E2%80%93%20Introduction%20to%20data%20types.ipynb\" target=\"_parent\"><img src=\"https://colab.research.google.com/assets/colab-badge.svg\" alt=\"Open In Colab\"/></a>"
      ]
    },
    {
      "cell_type": "markdown",
      "metadata": {
        "id": "Gs2O4UB_ijtu",
        "colab_type": "text"
      },
      "source": [
        "# Module 1. Introduction to data types"
      ]
    },
    {
      "cell_type": "markdown",
      "metadata": {
        "id": "m2nthTiYi3iq",
        "colab_type": "text"
      },
      "source": [
        "# Data types"
      ]
    },
    {
      "cell_type": "code",
      "metadata": {
        "id": "LkWL4mY6i574",
        "colab_type": "code",
        "colab": {}
      },
      "source": [
        "x = 9\n",
        "\n",
        "# What is the data type of \"x\"\n",
        "print(x)\n",
        "\n",
        "print(type(x))"
      ],
      "execution_count": 0,
      "outputs": []
    },
    {
      "cell_type": "markdown",
      "metadata": {
        "id": "_jPf5AGLjmFL",
        "colab_type": "text"
      },
      "source": [
        "### For advanced users:\n",
        "*A neater way to print*"
      ]
    },
    {
      "cell_type": "code",
      "metadata": {
        "id": "c4dsuGO2pfew",
        "colab_type": "code",
        "colab": {}
      },
      "source": [
        "#  using f strings\n",
        "print(f'x = {x} and is {type(x)}')"
      ],
      "execution_count": 0,
      "outputs": []
    },
    {
      "cell_type": "code",
      "metadata": {
        "id": "767erxXSpm1U",
        "colab_type": "code",
        "colab": {}
      },
      "source": [
        "#  using string format\n",
        "print('x = {} and is {}'.format(x, type(x)))"
      ],
      "execution_count": 0,
      "outputs": []
    },
    {
      "cell_type": "markdown",
      "metadata": {
        "id": "cWQGrspsitCD",
        "colab_type": "text"
      },
      "source": [
        "## Intergers\n",
        "Whole numbers\n"
      ]
    },
    {
      "cell_type": "code",
      "metadata": {
        "id": "3ggj53S0j8qi",
        "colab_type": "code",
        "colab": {}
      },
      "source": [
        "x = 100\n",
        "print(\"x is\", type(x))\n",
        "\n",
        "y = -100\n",
        "print(\"y is\", type(y))\n",
        "\n",
        "z = 7.5\n",
        "\n",
        "print(\"z is\", type(z))"
      ],
      "execution_count": 0,
      "outputs": []
    },
    {
      "cell_type": "markdown",
      "metadata": {
        "id": "7BJCfMJ1kadT",
        "colab_type": "text"
      },
      "source": [
        "## Floats\n",
        "Numbers with decimal places"
      ]
    },
    {
      "cell_type": "code",
      "metadata": {
        "id": "09FPkPfnkfIV",
        "colab_type": "code",
        "colab": {}
      },
      "source": [
        "x = 1.75\n",
        "print(\"x is\", type(x))\n",
        "\n",
        "y = -1.75\n",
        "print(\"y is\", type(y))\n",
        "\n",
        "z = 7.0\n",
        "\n",
        "print(\"z is\", type(z))"
      ],
      "execution_count": 0,
      "outputs": []
    },
    {
      "cell_type": "markdown",
      "metadata": {
        "id": "xHEDRs08krqf",
        "colab_type": "text"
      },
      "source": [
        "## Boolean\n",
        "`True` or `False`"
      ]
    },
    {
      "cell_type": "code",
      "metadata": {
        "id": "SR5XqSWEkuA6",
        "colab_type": "code",
        "colab": {}
      },
      "source": [
        "x = True\n",
        "print(\"x is\", type(x))\n",
        "\n",
        "y = False\n",
        "print(\"y is\", type(y))"
      ],
      "execution_count": 0,
      "outputs": []
    },
    {
      "cell_type": "markdown",
      "metadata": {
        "id": "V4UBavpglFjS",
        "colab_type": "text"
      },
      "source": [
        "```\n",
        "# For advanced users\n",
        "z = True if 6 > 1 else False\n",
        "\n",
        "print(\"z is\", type(z))\n",
        "```"
      ]
    },
    {
      "cell_type": "markdown",
      "metadata": {
        "id": "JdDQizrZlQVL",
        "colab_type": "text"
      },
      "source": [
        "## String\n",
        "Words!"
      ]
    },
    {
      "cell_type": "code",
      "metadata": {
        "id": "XXrF7k7YlWzG",
        "colab_type": "code",
        "colab": {}
      },
      "source": [
        "x = \"Prototype\"\n",
        "print(\"x is\", type(x))\n",
        "\n",
        "y = \"Minimum viable product\"\n",
        "print(\"y is\", type(y))\n",
        "\n",
        "z = \"9\"\n",
        "print(\"z =\",z,\"and is\", type(z))"
      ],
      "execution_count": 0,
      "outputs": []
    },
    {
      "cell_type": "markdown",
      "metadata": {
        "id": "uCh87UenmN09",
        "colab_type": "text"
      },
      "source": [
        "\n",
        "### For advanced users\n"
      ]
    },
    {
      "cell_type": "code",
      "metadata": {
        "id": "ttpdv0ZAmLDq",
        "colab_type": "code",
        "colab": {}
      },
      "source": [
        "z2 = \"9\"*2\n",
        "print(\"z2 =\",z2,\"and is\", type(z2))\n",
        "\n",
        "z3 = 9*2\n",
        "print(\"z3 =\",z3,\"and is\", type(z3))\n",
        "\n",
        "z4 = str(9*2)\n",
        "print(\"z4 =\",z4,\"and is\", type(z4))"
      ],
      "execution_count": 0,
      "outputs": []
    },
    {
      "cell_type": "markdown",
      "metadata": {
        "id": "5MdtY-PomcHs",
        "colab_type": "text"
      },
      "source": [
        "## Lists"
      ]
    },
    {
      "cell_type": "code",
      "metadata": {
        "id": "CRNfJcjQmdDj",
        "colab_type": "code",
        "colab": {}
      },
      "source": [
        "x = [1, 2, 3]\n",
        "print(\"x is\", type(x))\n",
        "\n",
        "\n",
        "y = [\"a\",\"b\",\"c\"]\n",
        "print(\"y is\", type(y))"
      ],
      "execution_count": 0,
      "outputs": []
    },
    {
      "cell_type": "markdown",
      "metadata": {
        "id": "uyCaEDsPmrSa",
        "colab_type": "text"
      },
      "source": [
        "## Dictionaries"
      ]
    },
    {
      "cell_type": "code",
      "metadata": {
        "id": "NCGtiXprms14",
        "colab_type": "code",
        "colab": {}
      },
      "source": [
        "x = {\"fav breakfast\":\"pancakes\",\"fav lunch\":\"pizza\"}\n",
        "\n",
        "print(\"x is\", type(x))"
      ],
      "execution_count": 0,
      "outputs": []
    },
    {
      "cell_type": "code",
      "metadata": {
        "id": "57vuRRrfm_4c",
        "colab_type": "code",
        "colab": {}
      },
      "source": [
        "# You can write them in different ways\n",
        "# (much neater now)\n",
        "\n",
        "y = {\n",
        "    \"fav breakfast\":\"pancakes\",\n",
        "     \"fav lunch\":\"pizza\"\n",
        "     }\n",
        "\n",
        "\n",
        "print(\"y is\", type(y))"
      ],
      "execution_count": 0,
      "outputs": []
    },
    {
      "cell_type": "markdown",
      "metadata": {
        "id": "aO-ceLawnNug",
        "colab_type": "text"
      },
      "source": [
        "## Opening a Dictionary"
      ]
    },
    {
      "cell_type": "code",
      "metadata": {
        "id": "77PbNzhPnQ8S",
        "colab_type": "code",
        "colab": {}
      },
      "source": [
        "# Here's a dictionary of a person's favorite foods\n",
        "fav_foods = {\n",
        "    \"breakfast\":\"pancakes\",\n",
        "    \"lunch\":\"pizza\",\n",
        "    \"supper\":\"salmon\"\n",
        "}\n",
        "\n",
        "# Here's how you get their favorite lunch:\n",
        "fav_lunch = fav_foods[\"lunch\"]\n",
        "print(\"Favorite lunch is:\", fav_lunch)"
      ],
      "execution_count": 0,
      "outputs": []
    },
    {
      "cell_type": "markdown",
      "metadata": {
        "id": "MFYlG-w5oQr9",
        "colab_type": "text"
      },
      "source": [
        "### For Advanced Users\n",
        "*What happens if you ask for an item that doesn't exist?*"
      ]
    },
    {
      "cell_type": "code",
      "metadata": {
        "id": "vIJzpi9-ooPF",
        "colab_type": "code",
        "colab": {}
      },
      "source": [
        "fav_desert = fav_foods[\"desert\"]\n",
        "print(\"Favorite desert is:\", fav_desert)"
      ],
      "execution_count": 0,
      "outputs": []
    },
    {
      "cell_type": "code",
      "metadata": {
        "id": "SFK2dbYsoSir",
        "colab_type": "code",
        "colab": {}
      },
      "source": [
        "# An alternative is to use python's `get` function\n",
        "fav_desert = fav_foods.get(\"desert\")\n",
        "print(\"Favorite desert is:\", fav_desert)"
      ],
      "execution_count": 0,
      "outputs": []
    },
    {
      "cell_type": "code",
      "metadata": {
        "id": "ge7XTv0_o5rA",
        "colab_type": "code",
        "colab": {}
      },
      "source": [
        "# Get will fill in the empty result with None\n",
        "# We can change that with the following code\n",
        "\n",
        "fav_desert = fav_foods.get(\"desert\", \"not-found\")\n",
        "print(\"Favorite desert is:\", fav_desert)"
      ],
      "execution_count": 0,
      "outputs": []
    },
    {
      "cell_type": "markdown",
      "metadata": {
        "id": "CPWqZrnEpAlC",
        "colab_type": "text"
      },
      "source": [
        "# Using Lists"
      ]
    },
    {
      "cell_type": "code",
      "metadata": {
        "id": "kbWl7JPlp8lR",
        "colab_type": "code",
        "colab": {}
      },
      "source": [
        "# Here's a list of yummy foods\n",
        "yummy_foods = [\"pizza\",\"banana cake\",\"mangos\",\"popcorn\",\"chocolate\"]"
      ],
      "execution_count": 0,
      "outputs": []
    },
    {
      "cell_type": "markdown",
      "metadata": {
        "id": "BmUpguxiqceg",
        "colab_type": "text"
      },
      "source": [
        "## Looping\n",
        "\n",
        "> **Q:** How do we print each item in the list?\n",
        ">\n",
        "> **A:** We loop through the list!\n",
        "\n"
      ]
    },
    {
      "cell_type": "code",
      "metadata": {
        "id": "FLnWVdSfqbiP",
        "colab_type": "code",
        "colab": {}
      },
      "source": [
        "for food in yummy_foods:\n",
        "  print(\"Here is a yummy food:\", food)"
      ],
      "execution_count": 0,
      "outputs": []
    },
    {
      "cell_type": "code",
      "metadata": {
        "id": "6N_vl10Vq8fG",
        "colab_type": "code",
        "colab": {}
      },
      "source": [
        "# This is very valuable if we want to see how many leters are in each food.\n",
        "\n",
        "for food in yummy_foods:\n",
        "  n = len(food)\n",
        "  print(food, \"has\", n, \"letters\")"
      ],
      "execution_count": 0,
      "outputs": []
    },
    {
      "cell_type": "code",
      "metadata": {
        "id": "GpCl993LrF5d",
        "colab_type": "code",
        "colab": {}
      },
      "source": [
        "# We can also filter for foods with the letter \"a\"\n",
        "for food in yummy_foods:\n",
        "  if \"a\" in food:\n",
        "    print(food, \"has an *a*\")"
      ],
      "execution_count": 0,
      "outputs": []
    },
    {
      "cell_type": "code",
      "metadata": {
        "id": "eNY_LtBerL5k",
        "colab_type": "code",
        "colab": {}
      },
      "source": [
        "# How many a's?\n",
        "for food in yummy_foods:\n",
        "  n = food.count(\"a\")\n",
        "  print(f\"{food} has {n} *a's*\")"
      ],
      "execution_count": 0,
      "outputs": []
    },
    {
      "cell_type": "markdown",
      "metadata": {
        "id": "dN6yqxh_r-3c",
        "colab_type": "text"
      },
      "source": [
        "# Using Dictionaries"
      ]
    },
    {
      "cell_type": "code",
      "metadata": {
        "id": "btCGDl8nsDzd",
        "colab_type": "code",
        "colab": {}
      },
      "source": [
        "# Here's a dictionary of my favorite foods\n",
        "fav_foods = {\n",
        "    \"breakfast\":\"pancakes\",\n",
        "    \"lunch\":\"sushi\",\n",
        "    \"snack\":\"mangos\",\n",
        "    \"supper\":\"schwarma\",\n",
        "    \"desert\":\"chocolate-chip cookies\"\n",
        "    }\n"
      ],
      "execution_count": 0,
      "outputs": []
    },
    {
      "cell_type": "markdown",
      "metadata": {
        "id": "ioHMPAbzsdyA",
        "colab_type": "text"
      },
      "source": [
        "## Keys, Values, and Items"
      ]
    },
    {
      "cell_type": "code",
      "metadata": {
        "id": "l7l_7bNosh7E",
        "colab_type": "code",
        "colab": {}
      },
      "source": [
        "# A key is the reference element of a dictionary\n",
        "print(fav_foods.keys())"
      ],
      "execution_count": 0,
      "outputs": []
    },
    {
      "cell_type": "code",
      "metadata": {
        "id": "Bg5-MH4espUW",
        "colab_type": "code",
        "colab": {}
      },
      "source": [
        "# A value is the corresponding element of a dictionary\n",
        "print(fav_foods.values())"
      ],
      "execution_count": 0,
      "outputs": []
    },
    {
      "cell_type": "code",
      "metadata": {
        "id": "cHrF4QnLst2t",
        "colab_type": "code",
        "colab": {}
      },
      "source": [
        "# The items in a dictionary are the key, value pairs\n",
        "print(fav_foods.items())"
      ],
      "execution_count": 0,
      "outputs": []
    },
    {
      "cell_type": "markdown",
      "metadata": {
        "id": "3ZhRzKC-s0sr",
        "colab_type": "text"
      },
      "source": [
        "## Looping"
      ]
    },
    {
      "cell_type": "code",
      "metadata": {
        "id": "bJXgYbtUs3Hu",
        "colab_type": "code",
        "colab": {}
      },
      "source": [
        "# Using keys\n",
        "for key in fav_foods.keys():\n",
        "  print(key, \":\", fav_foods[key])"
      ],
      "execution_count": 0,
      "outputs": []
    },
    {
      "cell_type": "code",
      "metadata": {
        "id": "vlZRStJutELZ",
        "colab_type": "code",
        "colab": {}
      },
      "source": [
        "# Using items\n",
        "for key, value in fav_foods.items():\n",
        "  print(key, \":\", value)"
      ],
      "execution_count": 0,
      "outputs": []
    },
    {
      "cell_type": "markdown",
      "metadata": {
        "id": "Uh3Wc9uQtJra",
        "colab_type": "text"
      },
      "source": [
        "## Overwriting values"
      ]
    },
    {
      "cell_type": "code",
      "metadata": {
        "id": "UyN98r9LtLKO",
        "colab_type": "code",
        "colab": {}
      },
      "source": [
        "# Set values like this\n",
        "# Watch out! This is permanent...\n",
        "fav_foods[\"breakfast\"] = \"waffles\"\n",
        "\n",
        "print(fav_foods)"
      ],
      "execution_count": 0,
      "outputs": []
    },
    {
      "cell_type": "code",
      "metadata": {
        "id": "b75JwT2NtTkZ",
        "colab_type": "code",
        "colab": {}
      },
      "source": [
        "# Add values too\n",
        "fav_foods[\"midnight snack\"] = \"gushers\"\n",
        "\n",
        "print(fav_foods)"
      ],
      "execution_count": 0,
      "outputs": []
    },
    {
      "cell_type": "code",
      "metadata": {
        "id": "Dl55oxlRtf6l",
        "colab_type": "code",
        "colab": {}
      },
      "source": [
        "# Or add many with a new dictionary\n",
        "\n",
        "# First, create the new dictionary\n",
        "secret_snacks = {\n",
        "    \"breakfast desert\":\"chocolate danish\",\n",
        "    \"lunch desert\":\"mango ice cream\",\n",
        "    \"snack desert\":\"popcorn\",\n",
        "    \"supper desert\":\"cinamon roll\"\n",
        "}\n",
        "\n",
        "\n",
        "# Add them with the following:\n",
        "fav_foods.update(secret_snacks)\n",
        "\n",
        "\n",
        "# Now see if it worked\n",
        "print(fav_foods)\n",
        "# Bingo!!"
      ],
      "execution_count": 0,
      "outputs": []
    },
    {
      "cell_type": "markdown",
      "metadata": {
        "id": "1sbVsq0tuH9a",
        "colab_type": "text"
      },
      "source": [
        "# Homework\n",
        "\n",
        "1. Make a dictionary of your favorite foods\n",
        "2. \"Loop through\" to print each one\n",
        "3. Submit your code [here](https://forms.gle/XCM33SzCQRCXZjvo6).\n",
        "\n",
        "_Feel free to experiment below..._"
      ]
    },
    {
      "cell_type": "code",
      "metadata": {
        "id": "5FlR5OUkuez6",
        "colab_type": "code",
        "colab": {}
      },
      "source": [
        ""
      ],
      "execution_count": 0,
      "outputs": []
    }
  ]
}